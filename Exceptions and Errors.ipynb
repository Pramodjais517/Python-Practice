{
 "cells": [
  {
   "cell_type": "code",
   "execution_count": 5,
   "metadata": {},
   "outputs": [
    {
     "name": "stdout",
     "output_type": "stream",
     "text": [
      "enter a numberten\n",
      "Not a Valid number\n"
     ]
    }
   ],
   "source": [
    "try:\n",
    "    x=int(input(\"enter a number\"))\n",
    "except:\n",
    "    print(\"Not a Valid number\")"
   ]
  },
  {
   "cell_type": "code",
   "execution_count": 1,
   "metadata": {},
   "outputs": [
    {
     "name": "stdout",
     "output_type": "stream",
     "text": [
      "enter a numberten\n",
      "Not a Valid number\n"
     ]
    }
   ],
   "source": [
    "try:\n",
    "    x=int(input(\"enter a number\"))\n",
    "except:\n",
    "        print(\"Not a Valid number\")"
   ]
  },
  {
   "cell_type": "code",
   "execution_count": 2,
   "metadata": {},
   "outputs": [
    {
     "name": "stdout",
     "output_type": "stream",
     "text": [
      "Enter a numberten\n",
      "Not a number\n",
      "Enter a numberkm\n",
      "Not a number\n",
      "Enter a number12\n"
     ]
    }
   ],
   "source": [
    "while(True):\n",
    "    try:\n",
    "        x=int(input(\"Enter a number\"))\n",
    "        break\n",
    "    except:\n",
    "        print(\"Not a number\")\n",
    "    "
   ]
  },
  {
   "cell_type": "code",
   "execution_count": 2,
   "metadata": {},
   "outputs": [
    {
     "name": "stdout",
     "output_type": "stream",
     "text": [
      "Enter a numberten\n",
      "Not a number\n",
      "thanks and Bye\n",
      "Enter a number12\n",
      "thanks and Bye\n"
     ]
    }
   ],
   "source": [
    "while(True):\n",
    "    try:\n",
    "        x=int(input(\"Enter a number\"))\n",
    "        break\n",
    "    except:\n",
    "        print(\"Not a number\")\n",
    "    finally:\n",
    "        print(\"thanks and Bye\")"
   ]
  },
  {
   "cell_type": "code",
   "execution_count": null,
   "metadata": {},
   "outputs": [
    {
     "name": "stdout",
     "output_type": "stream",
     "text": [
      "enter a numberten\n",
      "wrong input\n",
      "next input\n",
      "enter a number    \n",
      "wrong input\n",
      "next input\n",
      "enter a number\n",
      "wrong input\n",
      "next input\n",
      "enter a number\n",
      "wrong input\n",
      "next input\n",
      "enter a number\n",
      "wrong input\n",
      "next input\n",
      "enter a number\n",
      "wrong input\n",
      "next input\n",
      "enter a number12\n",
      "next input\n",
      "enter a number\n",
      "wrong input\n",
      "next input\n",
      "enter a number12\n",
      "next input\n"
     ]
    }
   ],
   "source": [
    "while(True):\n",
    "    try:\n",
    "        x=int(input(\"enter a number\"))\n",
    "        break\n",
    "    except ValueError:\n",
    "        print(\"wrong input\")\n",
    "    finally:\n",
    "        print(\"next input\")"
   ]
  },
  {
   "cell_type": "code",
   "execution_count": 2,
   "metadata": {},
   "outputs": [
    {
     "name": "stdout",
     "output_type": "stream",
     "text": [
      "Enter a numberen\n",
      "Not a number <class 'ValueError'>\n",
      "thanks and Bye\n",
      "Enter a number12\n",
      "thanks and Bye\n"
     ]
    }
   ],
   "source": [
    "while(True):\n",
    "    try:\n",
    "        x=int(input(\"Enter a number\"))\n",
    "        break\n",
    "    except:\n",
    "        print(\"Not a number {}\".format(ValueError))\n",
    "    finally:\n",
    "        print(\"thanks and Bye\")"
   ]
  },
  {
   "cell_type": "code",
   "execution_count": 1,
   "metadata": {},
   "outputs": [
    {
     "name": "stdout",
     "output_type": "stream",
     "text": [
      "__main__\n"
     ]
    }
   ],
   "source": [
    "print(__name__)"
   ]
  },
  {
   "cell_type": "code",
   "execution_count": 9,
   "metadata": {},
   "outputs": [
    {
     "data": {
      "text/plain": [
       "64"
      ]
     },
     "execution_count": 9,
     "metadata": {},
     "output_type": "execute_result"
    }
   ],
   "source": [
    "def func(t):\n",
    "    return t*8\n",
    "func(8)"
   ]
  },
  {
   "cell_type": "code",
   "execution_count": null,
   "metadata": {},
   "outputs": [],
   "source": []
  }
 ],
 "metadata": {
  "kernelspec": {
   "display_name": "Python 3",
   "language": "python",
   "name": "python3"
  },
  "language_info": {
   "codemirror_mode": {
    "name": "ipython",
    "version": 3
   },
   "file_extension": ".py",
   "mimetype": "text/x-python",
   "name": "python",
   "nbconvert_exporter": "python",
   "pygments_lexer": "ipython3",
   "version": "3.7.1"
  }
 },
 "nbformat": 4,
 "nbformat_minor": 2
}
