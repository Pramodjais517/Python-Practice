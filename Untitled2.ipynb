{
 "cells": [
  {
   "cell_type": "code",
   "execution_count": null,
   "metadata": {},
   "outputs": [],
   "source": []
  },
  {
   "cell_type": "code",
   "execution_count": 52,
   "metadata": {},
   "outputs": [
    {
     "name": "stdout",
     "output_type": "stream",
     "text": [
      " RSA 162/6 (43.1 Ovs) \n"
     ]
    }
   ],
   "source": [
    "import threading \n",
    "import bs4\n",
    "import requests\n",
    "from IPython.display import clear_output\n",
    "def sco(): \n",
    "    \n",
    "    res = requests.get('https://www.cricbuzz.com/live-cricket-scores/20195/rsa-vs-sl-1st-test-sri-lanka-tour-of-south-africa-2019')\n",
    "   \n",
    "    soup = bs4.BeautifulSoup(res.text,'lxml')\n",
    "    score = soup.select('.cb-min-bat-rw > .cb-font-20')\n",
    "    clear_output()\n",
    "    print(score[0].text)\n",
    "    time = threading.Timer(3,sco)\n",
    "    time.start()\n",
    "timer = threading.Timer(0, sco) \n",
    "timer.start()"
   ]
  },
  {
   "cell_type": "code",
   "execution_count": 35,
   "metadata": {},
   "outputs": [
    {
     "name": "stdout",
     "output_type": "stream",
     "text": [
      " RSA 104/4 (28.0 Ovs) \n",
      " RSA 104/4 (28.0 Ovs) \n"
     ]
    }
   ],
   "source": [
    "#     import requests\n",
    "#     res = requests.get('https://www.cricbuzz.com/live-cricket-scores/20195/rsa-vs-sl-1st-test-sri-lanka-tour-of-south-africa-2019')\n",
    "#     import bs4\n",
    "#     soup = bs4.BeautifulSoup(res.text,'lxml')\n",
    "#     score = soup.select('.cb-min-bat-rw > .cb-font-20')\n",
    "#     score[0].text"
   ]
  },
  {
   "cell_type": "code",
   "execution_count": null,
   "metadata": {},
   "outputs": [],
   "source": []
  },
  {
   "cell_type": "code",
   "execution_count": null,
   "metadata": {},
   "outputs": [],
   "source": []
  },
  {
   "cell_type": "code",
   "execution_count": null,
   "metadata": {},
   "outputs": [],
   "source": []
  }
 ],
 "metadata": {
  "kernelspec": {
   "display_name": "Python 3",
   "language": "python",
   "name": "python3"
  },
  "language_info": {
   "codemirror_mode": {
    "name": "ipython",
    "version": 3
   },
   "file_extension": ".py",
   "mimetype": "text/x-python",
   "name": "python",
   "nbconvert_exporter": "python",
   "pygments_lexer": "ipython3",
   "version": "3.7.1"
  }
 },
 "nbformat": 4,
 "nbformat_minor": 2
}
