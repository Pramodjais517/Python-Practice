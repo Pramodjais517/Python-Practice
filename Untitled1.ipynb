{
 "cells": [
  {
   "cell_type": "code",
   "execution_count": 2,
   "metadata": {},
   "outputs": [
    {
     "name": "stdout",
     "output_type": "stream",
     "text": [
      "enter you name\n",
      "pramod\n",
      "enter your age\n",
      "12\n",
      "pramod ,sorry you are not allowed\n",
      "\n"
     ]
    }
   ],
   "source": [
    "name = input(\"enter you name\\n\")\n",
    "age  = int(input(\"enter your age\\n\"))\n",
    "if(age<14):\n",
    "    print(name + \" ,sorry you are not allowed\\n\")\n",
    "elif(age>14 and age<18):\n",
    "    print(name + \" your are allowed to watch with parents\\n\")\n",
    "else:\n",
    "    print(name + \" everyone is allowed\\n\")"
   ]
  },
  {
   "cell_type": "code",
   "execution_count": 16,
   "metadata": {},
   "outputs": [
    {
     "data": {
      "text/plain": [
       "6"
      ]
     },
     "execution_count": 16,
     "metadata": {},
     "output_type": "execute_result"
    }
   ],
   "source": [
    "def power(x,y):\n",
    "    res =x \n",
    "    for i in range(y):\n",
    "        res *=x\n",
    "    return x\n",
    "power(6,2)"
   ]
  },
  {
   "cell_type": "code",
   "execution_count": null,
   "metadata": {},
   "outputs": [],
   "source": [
    "while True:\n",
    "    import random\n",
    "    print(\"this is a roling \")"
   ]
  }
 ],
 "metadata": {
  "kernelspec": {
   "display_name": "Python 3",
   "language": "python",
   "name": "python3"
  },
  "language_info": {
   "codemirror_mode": {
    "name": "ipython",
    "version": 3
   },
   "file_extension": ".py",
   "mimetype": "text/x-python",
   "name": "python",
   "nbconvert_exporter": "python",
   "pygments_lexer": "ipython3",
   "version": "3.7.1"
  }
 },
 "nbformat": 4,
 "nbformat_minor": 2
}
